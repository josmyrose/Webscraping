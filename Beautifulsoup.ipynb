{
  "nbformat": 4,
  "nbformat_minor": 0,
  "metadata": {
    "colab": {
      "provenance": [],
      "mount_file_id": "1lAWDvgNVrjw3rpKbXTsFSryYYngxb_HF",
      "authorship_tag": "ABX9TyN/UkdfNUsWTJyumXpK3jLV",
      "include_colab_link": true
    },
    "kernelspec": {
      "name": "python3",
      "display_name": "Python 3"
    },
    "language_info": {
      "name": "python"
    }
  },
  "cells": [
    {
      "cell_type": "markdown",
      "metadata": {
        "id": "view-in-github",
        "colab_type": "text"
      },
      "source": [
        "<a href=\"https://colab.research.google.com/github/josmyrose/Webscraping/blob/main/Beautifulsoup.ipynb\" target=\"_parent\"><img src=\"https://colab.research.google.com/assets/colab-badge.svg\" alt=\"Open In Colab\"/></a>"
      ]
    },
    {
      "cell_type": "code",
      "execution_count": null,
      "metadata": {
        "colab": {
          "base_uri": "https://localhost:8080/"
        },
        "id": "ygrqiYX-6-4t",
        "outputId": "ce4a4564-7240-4bd4-8de6-717a9c1bdd08"
      },
      "outputs": [
        {
          "output_type": "stream",
          "name": "stdout",
          "text": [
            "Looking in indexes: https://pypi.org/simple, https://us-python.pkg.dev/colab-wheels/public/simple/\n",
            "Requirement already satisfied: requests in /usr/local/lib/python3.8/dist-packages (2.25.1)\n",
            "Requirement already satisfied: beautifulsoup4 in /usr/local/lib/python3.8/dist-packages (4.6.3)\n",
            "Requirement already satisfied: chardet<5,>=3.0.2 in /usr/local/lib/python3.8/dist-packages (from requests) (4.0.0)\n",
            "Requirement already satisfied: certifi>=2017.4.17 in /usr/local/lib/python3.8/dist-packages (from requests) (2022.12.7)\n",
            "Requirement already satisfied: urllib3<1.27,>=1.21.1 in /usr/local/lib/python3.8/dist-packages (from requests) (1.24.3)\n",
            "Requirement already satisfied: idna<3,>=2.5 in /usr/local/lib/python3.8/dist-packages (from requests) (2.10)\n"
          ]
        }
      ],
      "source": [
        "pip install requests beautifulsoup4 # for installing beautifulsoup"
      ]
    },
    {
      "cell_type": "markdown",
      "source": [
        "Import necessary libraries"
      ],
      "metadata": {
        "id": "9Em_xWyF8PHh"
      }
    },
    {
      "cell_type": "code",
      "source": [
        "import requests\n",
        "from bs4 import BeautifulSoup"
      ],
      "metadata": {
        "id": "ny83n-YW8DLp"
      },
      "execution_count": null,
      "outputs": []
    },
    {
      "cell_type": "code",
      "source": [
        "page = requests.get('https://quotes.toscrape.com')"
      ],
      "metadata": {
        "id": "mWNPMsZw9dA-"
      },
      "execution_count": null,
      "outputs": []
    },
    {
      "cell_type": "code",
      "source": [
        "page"
      ],
      "metadata": {
        "colab": {
          "base_uri": "https://localhost:8080/"
        },
        "id": "jCHSKcym9fPb",
        "outputId": "8808bd7e-72dd-40bf-efa9-d388a490ce71"
      },
      "execution_count": null,
      "outputs": [
        {
          "output_type": "execute_result",
          "data": {
            "text/plain": [
              "<Response [200]>"
            ]
          },
          "metadata": {},
          "execution_count": 4
        }
      ]
    },
    {
      "cell_type": "markdown",
      "source": [
        "The above result indicates that  the HTTP request was executed successfully."
      ],
      "metadata": {
        "id": "Mv4PiFUs9nlA"
      }
    },
    {
      "cell_type": "markdown",
      "source": [
        "Pass the page.text HTML document to the BeautifulSoup() constructor:"
      ],
      "metadata": {
        "id": "sQ1A5CNk_7AW"
      }
    },
    {
      "cell_type": "code",
      "source": [
        "soup = BeautifulSoup(page.text, 'html.parser') #The soup variable now contains a BeautifulSoup object. This is a parse tree generated from parsing the HTML document contained in page.text with the Python built-in html.parser.\n",
        "soup"
      ],
      "metadata": {
        "colab": {
          "base_uri": "https://localhost:8080/"
        },
        "id": "Vb_ZXMBd92-0",
        "outputId": "81b669ea-5f63-402d-efb1-5505d2013242"
      },
      "execution_count": null,
      "outputs": [
        {
          "output_type": "execute_result",
          "data": {
            "text/plain": [
              "<!DOCTYPE html>\n",
              "\n",
              "<html lang=\"en\">\n",
              "<head>\n",
              "<meta charset=\"utf-8\"/>\n",
              "<title>Quotes to Scrape</title>\n",
              "<link href=\"/static/bootstrap.min.css\" rel=\"stylesheet\"/>\n",
              "<link href=\"/static/main.css\" rel=\"stylesheet\"/>\n",
              "</head>\n",
              "<body>\n",
              "<div class=\"container\">\n",
              "<div class=\"row header-box\">\n",
              "<div class=\"col-md-8\">\n",
              "<h1>\n",
              "<a href=\"/\" style=\"text-decoration: none\">Quotes to Scrape</a>\n",
              "</h1>\n",
              "</div>\n",
              "<div class=\"col-md-4\">\n",
              "<p>\n",
              "<a href=\"/login\">Login</a>\n",
              "</p>\n",
              "</div>\n",
              "</div>\n",
              "<div class=\"row\">\n",
              "<div class=\"col-md-8\">\n",
              "<div class=\"quote\" itemscope=\"\" itemtype=\"http://schema.org/CreativeWork\">\n",
              "<span class=\"text\" itemprop=\"text\">“The world as we have created it is a process of our thinking. It cannot be changed without changing our thinking.”</span>\n",
              "<span>by <small class=\"author\" itemprop=\"author\">Albert Einstein</small>\n",
              "<a href=\"/author/Albert-Einstein\">(about)</a>\n",
              "</span>\n",
              "<div class=\"tags\">\n",
              "            Tags:\n",
              "            <meta class=\"keywords\" content=\"change,deep-thoughts,thinking,world\" itemprop=\"keywords\"/>\n",
              "<a class=\"tag\" href=\"/tag/change/page/1/\">change</a>\n",
              "<a class=\"tag\" href=\"/tag/deep-thoughts/page/1/\">deep-thoughts</a>\n",
              "<a class=\"tag\" href=\"/tag/thinking/page/1/\">thinking</a>\n",
              "<a class=\"tag\" href=\"/tag/world/page/1/\">world</a>\n",
              "</div>\n",
              "</div>\n",
              "<div class=\"quote\" itemscope=\"\" itemtype=\"http://schema.org/CreativeWork\">\n",
              "<span class=\"text\" itemprop=\"text\">“It is our choices, Harry, that show what we truly are, far more than our abilities.”</span>\n",
              "<span>by <small class=\"author\" itemprop=\"author\">J.K. Rowling</small>\n",
              "<a href=\"/author/J-K-Rowling\">(about)</a>\n",
              "</span>\n",
              "<div class=\"tags\">\n",
              "            Tags:\n",
              "            <meta class=\"keywords\" content=\"abilities,choices\" itemprop=\"keywords\"/>\n",
              "<a class=\"tag\" href=\"/tag/abilities/page/1/\">abilities</a>\n",
              "<a class=\"tag\" href=\"/tag/choices/page/1/\">choices</a>\n",
              "</div>\n",
              "</div>\n",
              "<div class=\"quote\" itemscope=\"\" itemtype=\"http://schema.org/CreativeWork\">\n",
              "<span class=\"text\" itemprop=\"text\">“There are only two ways to live your life. One is as though nothing is a miracle. The other is as though everything is a miracle.”</span>\n",
              "<span>by <small class=\"author\" itemprop=\"author\">Albert Einstein</small>\n",
              "<a href=\"/author/Albert-Einstein\">(about)</a>\n",
              "</span>\n",
              "<div class=\"tags\">\n",
              "            Tags:\n",
              "            <meta class=\"keywords\" content=\"inspirational,life,live,miracle,miracles\" itemprop=\"keywords\"/>\n",
              "<a class=\"tag\" href=\"/tag/inspirational/page/1/\">inspirational</a>\n",
              "<a class=\"tag\" href=\"/tag/life/page/1/\">life</a>\n",
              "<a class=\"tag\" href=\"/tag/live/page/1/\">live</a>\n",
              "<a class=\"tag\" href=\"/tag/miracle/page/1/\">miracle</a>\n",
              "<a class=\"tag\" href=\"/tag/miracles/page/1/\">miracles</a>\n",
              "</div>\n",
              "</div>\n",
              "<div class=\"quote\" itemscope=\"\" itemtype=\"http://schema.org/CreativeWork\">\n",
              "<span class=\"text\" itemprop=\"text\">“The person, be it gentleman or lady, who has not pleasure in a good novel, must be intolerably stupid.”</span>\n",
              "<span>by <small class=\"author\" itemprop=\"author\">Jane Austen</small>\n",
              "<a href=\"/author/Jane-Austen\">(about)</a>\n",
              "</span>\n",
              "<div class=\"tags\">\n",
              "            Tags:\n",
              "            <meta class=\"keywords\" content=\"aliteracy,books,classic,humor\" itemprop=\"keywords\"/>\n",
              "<a class=\"tag\" href=\"/tag/aliteracy/page/1/\">aliteracy</a>\n",
              "<a class=\"tag\" href=\"/tag/books/page/1/\">books</a>\n",
              "<a class=\"tag\" href=\"/tag/classic/page/1/\">classic</a>\n",
              "<a class=\"tag\" href=\"/tag/humor/page/1/\">humor</a>\n",
              "</div>\n",
              "</div>\n",
              "<div class=\"quote\" itemscope=\"\" itemtype=\"http://schema.org/CreativeWork\">\n",
              "<span class=\"text\" itemprop=\"text\">“Imperfection is beauty, madness is genius and it's better to be absolutely ridiculous than absolutely boring.”</span>\n",
              "<span>by <small class=\"author\" itemprop=\"author\">Marilyn Monroe</small>\n",
              "<a href=\"/author/Marilyn-Monroe\">(about)</a>\n",
              "</span>\n",
              "<div class=\"tags\">\n",
              "            Tags:\n",
              "            <meta class=\"keywords\" content=\"be-yourself,inspirational\" itemprop=\"keywords\"/>\n",
              "<a class=\"tag\" href=\"/tag/be-yourself/page/1/\">be-yourself</a>\n",
              "<a class=\"tag\" href=\"/tag/inspirational/page/1/\">inspirational</a>\n",
              "</div>\n",
              "</div>\n",
              "<div class=\"quote\" itemscope=\"\" itemtype=\"http://schema.org/CreativeWork\">\n",
              "<span class=\"text\" itemprop=\"text\">“Try not to become a man of success. Rather become a man of value.”</span>\n",
              "<span>by <small class=\"author\" itemprop=\"author\">Albert Einstein</small>\n",
              "<a href=\"/author/Albert-Einstein\">(about)</a>\n",
              "</span>\n",
              "<div class=\"tags\">\n",
              "            Tags:\n",
              "            <meta class=\"keywords\" content=\"adulthood,success,value\" itemprop=\"keywords\"/>\n",
              "<a class=\"tag\" href=\"/tag/adulthood/page/1/\">adulthood</a>\n",
              "<a class=\"tag\" href=\"/tag/success/page/1/\">success</a>\n",
              "<a class=\"tag\" href=\"/tag/value/page/1/\">value</a>\n",
              "</div>\n",
              "</div>\n",
              "<div class=\"quote\" itemscope=\"\" itemtype=\"http://schema.org/CreativeWork\">\n",
              "<span class=\"text\" itemprop=\"text\">“It is better to be hated for what you are than to be loved for what you are not.”</span>\n",
              "<span>by <small class=\"author\" itemprop=\"author\">André Gide</small>\n",
              "<a href=\"/author/Andre-Gide\">(about)</a>\n",
              "</span>\n",
              "<div class=\"tags\">\n",
              "            Tags:\n",
              "            <meta class=\"keywords\" content=\"life,love\" itemprop=\"keywords\"/>\n",
              "<a class=\"tag\" href=\"/tag/life/page/1/\">life</a>\n",
              "<a class=\"tag\" href=\"/tag/love/page/1/\">love</a>\n",
              "</div>\n",
              "</div>\n",
              "<div class=\"quote\" itemscope=\"\" itemtype=\"http://schema.org/CreativeWork\">\n",
              "<span class=\"text\" itemprop=\"text\">“I have not failed. I've just found 10,000 ways that won't work.”</span>\n",
              "<span>by <small class=\"author\" itemprop=\"author\">Thomas A. Edison</small>\n",
              "<a href=\"/author/Thomas-A-Edison\">(about)</a>\n",
              "</span>\n",
              "<div class=\"tags\">\n",
              "            Tags:\n",
              "            <meta class=\"keywords\" content=\"edison,failure,inspirational,paraphrased\" itemprop=\"keywords\"/>\n",
              "<a class=\"tag\" href=\"/tag/edison/page/1/\">edison</a>\n",
              "<a class=\"tag\" href=\"/tag/failure/page/1/\">failure</a>\n",
              "<a class=\"tag\" href=\"/tag/inspirational/page/1/\">inspirational</a>\n",
              "<a class=\"tag\" href=\"/tag/paraphrased/page/1/\">paraphrased</a>\n",
              "</div>\n",
              "</div>\n",
              "<div class=\"quote\" itemscope=\"\" itemtype=\"http://schema.org/CreativeWork\">\n",
              "<span class=\"text\" itemprop=\"text\">“A woman is like a tea bag; you never know how strong it is until it's in hot water.”</span>\n",
              "<span>by <small class=\"author\" itemprop=\"author\">Eleanor Roosevelt</small>\n",
              "<a href=\"/author/Eleanor-Roosevelt\">(about)</a>\n",
              "</span>\n",
              "<div class=\"tags\">\n",
              "            Tags:\n",
              "            <meta class=\"keywords\" content=\"misattributed-eleanor-roosevelt\" itemprop=\"keywords\"/>\n",
              "<a class=\"tag\" href=\"/tag/misattributed-eleanor-roosevelt/page/1/\">misattributed-eleanor-roosevelt</a>\n",
              "</div>\n",
              "</div>\n",
              "<div class=\"quote\" itemscope=\"\" itemtype=\"http://schema.org/CreativeWork\">\n",
              "<span class=\"text\" itemprop=\"text\">“A day without sunshine is like, you know, night.”</span>\n",
              "<span>by <small class=\"author\" itemprop=\"author\">Steve Martin</small>\n",
              "<a href=\"/author/Steve-Martin\">(about)</a>\n",
              "</span>\n",
              "<div class=\"tags\">\n",
              "            Tags:\n",
              "            <meta class=\"keywords\" content=\"humor,obvious,simile\" itemprop=\"keywords\"/>\n",
              "<a class=\"tag\" href=\"/tag/humor/page/1/\">humor</a>\n",
              "<a class=\"tag\" href=\"/tag/obvious/page/1/\">obvious</a>\n",
              "<a class=\"tag\" href=\"/tag/simile/page/1/\">simile</a>\n",
              "</div>\n",
              "</div>\n",
              "<nav>\n",
              "<ul class=\"pager\">\n",
              "<li class=\"next\">\n",
              "<a href=\"/page/2/\">Next <span aria-hidden=\"true\">→</span></a>\n",
              "</li>\n",
              "</ul>\n",
              "</nav>\n",
              "</div>\n",
              "<div class=\"col-md-4 tags-box\">\n",
              "<h2>Top Ten tags</h2>\n",
              "<span class=\"tag-item\">\n",
              "<a class=\"tag\" href=\"/tag/love/\" style=\"font-size: 28px\">love</a>\n",
              "</span>\n",
              "<span class=\"tag-item\">\n",
              "<a class=\"tag\" href=\"/tag/inspirational/\" style=\"font-size: 26px\">inspirational</a>\n",
              "</span>\n",
              "<span class=\"tag-item\">\n",
              "<a class=\"tag\" href=\"/tag/life/\" style=\"font-size: 26px\">life</a>\n",
              "</span>\n",
              "<span class=\"tag-item\">\n",
              "<a class=\"tag\" href=\"/tag/humor/\" style=\"font-size: 24px\">humor</a>\n",
              "</span>\n",
              "<span class=\"tag-item\">\n",
              "<a class=\"tag\" href=\"/tag/books/\" style=\"font-size: 22px\">books</a>\n",
              "</span>\n",
              "<span class=\"tag-item\">\n",
              "<a class=\"tag\" href=\"/tag/reading/\" style=\"font-size: 14px\">reading</a>\n",
              "</span>\n",
              "<span class=\"tag-item\">\n",
              "<a class=\"tag\" href=\"/tag/friendship/\" style=\"font-size: 10px\">friendship</a>\n",
              "</span>\n",
              "<span class=\"tag-item\">\n",
              "<a class=\"tag\" href=\"/tag/friends/\" style=\"font-size: 8px\">friends</a>\n",
              "</span>\n",
              "<span class=\"tag-item\">\n",
              "<a class=\"tag\" href=\"/tag/truth/\" style=\"font-size: 8px\">truth</a>\n",
              "</span>\n",
              "<span class=\"tag-item\">\n",
              "<a class=\"tag\" href=\"/tag/simile/\" style=\"font-size: 6px\">simile</a>\n",
              "</span>\n",
              "</div>\n",
              "</div>\n",
              "</div>\n",
              "<footer class=\"footer\">\n",
              "<div class=\"container\">\n",
              "<p class=\"text-muted\">\n",
              "                Quotes by: <a href=\"https://www.goodreads.com/quotes\">GoodReads.com</a>\n",
              "</p>\n",
              "<p class=\"copyright\">\n",
              "                Made with <span class=\"sh-red\">❤</span> by <a href=\"https://scrapinghub.com\">Scrapinghub</a>\n",
              "</p>\n",
              "</div>\n",
              "</footer>\n",
              "</body>\n",
              "</html>"
            ]
          },
          "metadata": {},
          "execution_count": 6
        }
      ]
    },
    {
      "cell_type": "markdown",
      "source": [
        "The second parameter specifies the parser that Beautiful Soup will use to parse the HTML document. The soup variable now contains a BeautifulSoup object. This is a parse tree generated from parsing the HTML document contained in page.text with the Python built-in html.parser.\n",
        "\n",
        "Now, initialize a variable that will contain the list of all scraped data."
      ],
      "metadata": {
        "id": "r-QFh9HsApiY"
      }
    },
    {
      "cell_type": "code",
      "source": [
        "quote_elements = soup.find_all('div', class_='quote') #The find_all() method will return the list of all <div> HTML elements identified by the quote class"
      ],
      "metadata": {
        "id": "mFeLMhGHAHju"
      },
      "execution_count": null,
      "outputs": []
    },
    {
      "cell_type": "code",
      "source": [
        "for quote_element in quote_elements:\n",
        "    # extracting the text of the quote\n",
        "    text = quote_element.find('span', class_='text').text\n",
        "    # extracting the author of the quote\n",
        "    author = quote_element.find('small', class_='author').text\n",
        "\n",
        "    # extracting the tag <a> HTML elements related to the quote\n",
        "    tag_elements = quote_element.find('div', class_='tags').find_all('a', class_='tag')\n",
        "\n",
        "    # storing the list of tag strings in a list\n",
        "    tags = []\n",
        "    for tag_element in tag_elements:\n",
        "        tags.append(tag_element.text)"
      ],
      "metadata": {
        "id": "t-MTr7McBEdU"
      },
      "execution_count": null,
      "outputs": []
    },
    {
      "cell_type": "code",
      "source": [
        "tags"
      ],
      "metadata": {
        "colab": {
          "base_uri": "https://localhost:8080/"
        },
        "id": "v6u0XsXJBuBu",
        "outputId": "65b0769d-e3a1-41d3-89f4-2942cbf8ac2c"
      },
      "execution_count": null,
      "outputs": [
        {
          "output_type": "execute_result",
          "data": {
            "text/plain": [
              "['humor', 'obvious', 'simile']"
            ]
          },
          "metadata": {},
          "execution_count": 10
        }
      ]
    },
    {
      "cell_type": "code",
      "source": [
        "text"
      ],
      "metadata": {
        "colab": {
          "base_uri": "https://localhost:8080/",
          "height": 36
        },
        "id": "7WODilqNB4MQ",
        "outputId": "438ff5ca-a817-4f98-d590-447dece95ade"
      },
      "execution_count": null,
      "outputs": [
        {
          "output_type": "execute_result",
          "data": {
            "text/plain": [
              "'“A day without sunshine is like, you know, night.”'"
            ],
            "application/vnd.google.colaboratory.intrinsic+json": {
              "type": "string"
            }
          },
          "metadata": {},
          "execution_count": 11
        }
      ]
    },
    {
      "cell_type": "markdown",
      "source": [
        "\n",
        "Transform this data into a dictionary and append it to the quotes list as follows:"
      ],
      "metadata": {
        "id": "oCfxtF-tCD6r"
      }
    },
    {
      "cell_type": "markdown",
      "source": [
        "\n"
      ],
      "metadata": {
        "id": "qw9v5amOCDxt"
      }
    },
    {
      "cell_type": "markdown",
      "source": [],
      "metadata": {
        "id": "5wXBZauFCDM0"
      }
    },
    {
      "cell_type": "code",
      "source": [
        "quotes=[]\n",
        "quotes.append(\n",
        "    {\n",
        "        'text': text,\n",
        "        'author': author,\n",
        "        'tags': ', '.join(tags) # merging the tags into a \"A, B, ..., Z\" string\n",
        "    }\n",
        ")\n",
        "quotes"
      ],
      "metadata": {
        "colab": {
          "base_uri": "https://localhost:8080/"
        },
        "id": "_O1t1r1sCJns",
        "outputId": "54b50268-db81-4a13-abef-56fe297cadb3"
      },
      "execution_count": null,
      "outputs": [
        {
          "output_type": "execute_result",
          "data": {
            "text/plain": [
              "[{'text': '“A day without sunshine is like, you know, night.”',\n",
              "  'author': 'Steve Martin',\n",
              "  'tags': 'humor, obvious, simile'}]"
            ]
          },
          "metadata": {},
          "execution_count": 13
        }
      ]
    },
    {
      "cell_type": "markdown",
      "source": [
        "**The above code is only for scanning single webpage**.\n",
        "\n",
        "---\n",
        "\n",
        "\n",
        "\n",
        "---\n",
        "\n",
        "\n",
        "\n",
        "---\n",
        "\n"
      ],
      "metadata": {
        "id": "_ihI6ho1EMpk"
      }
    },
    {
      "cell_type": "markdown",
      "source": [
        "The following code is used for scanning multiple pages and store the data into CSV file."
      ],
      "metadata": {
        "id": "41pCaAiEEXjn"
      }
    },
    {
      "cell_type": "markdown",
      "source": [
        "Implementing the crawling logic"
      ],
      "metadata": {
        "id": "x4Z_AHNPE5ZU"
      }
    },
    {
      "cell_type": "code",
      "source": [
        "# the url of the home page of the target website\n",
        "base_url = 'https://quotes.toscrape.com'\n",
        "\n",
        "# retrieving the page and initializing soup...\n",
        "\n",
        "# getting the \"Next →\" HTML element\n",
        "next_li_element = soup.find('li', class_='next')\n",
        "\n",
        "# if there is a next page to scrape\n",
        "while next_li_element is not None:\n",
        "    next_page_relative_url = next_li_element.find('a', href=True)['href']\n",
        "\n",
        "    # getting the new page\n",
        "    page = requests.get(base_url + next_page_relative_url)\n",
        "\n",
        "    # parsing the new page\n",
        "    soup = BeautifulSoup(page.text, 'html.parser')\n",
        "\n",
        "    # scraping logic...\n",
        "\n",
        "    # looking for the \"Next →\" HTML element in the new page\n",
        "    next_li_element = soup.find('li', class_='next')"
      ],
      "metadata": {
        "id": "e-61h7_IEWxG"
      },
      "execution_count": null,
      "outputs": []
    },
    {
      "cell_type": "markdown",
      "source": [
        "Converting the data into CSV format"
      ],
      "metadata": {
        "id": "p94lCbvIF0Jp"
      }
    },
    {
      "cell_type": "code",
      "source": [
        "import csv\n",
        "\n",
        "# scraping logic...\n",
        "\n",
        "# reading  the \"quotes.csv\" file and creating it\n",
        "# if not present\n",
        "csv_file = open('quotes.csv', 'w', encoding='utf-8', newline='')\n",
        "\n",
        "# initializing the writer object to insert data\n",
        "# in the CSV file\n",
        "writer = csv.writer(csv_file)\n",
        "\n",
        "# writing the header of the CSV file\n",
        "writer.writerow(['Text', 'Author', 'Tags'])\n",
        "\n",
        "# writing each row of the CSV\n",
        "for quote in quotes:\n",
        "    writer.writerow(quote.values())\n",
        "\n",
        "# terminating the operation and releasing the resources\n",
        "csv_file.close()"
      ],
      "metadata": {
        "id": "kqsuGtV1FwSX"
      },
      "execution_count": null,
      "outputs": []
    },
    {
      "cell_type": "code",
      "source": [
        "import pandas as pd"
      ],
      "metadata": {
        "id": "o_1jWKwTF77G"
      },
      "execution_count": null,
      "outputs": []
    },
    {
      "cell_type": "code",
      "source": [
        "df=pd.read_csv('/content/quotes.csv')"
      ],
      "metadata": {
        "id": "IJ8JPRVEF-JF"
      },
      "execution_count": null,
      "outputs": []
    },
    {
      "cell_type": "code",
      "source": [
        "df.head()"
      ],
      "metadata": {
        "colab": {
          "base_uri": "https://localhost:8080/",
          "height": 206
        },
        "id": "JlV9ATPrGQBr",
        "outputId": "fee87d33-3f07-4718-9c2b-12728ecaea6b"
      },
      "execution_count": null,
      "outputs": [
        {
          "output_type": "execute_result",
          "data": {
            "text/plain": [
              "                                                Text           Author  \\\n",
              "0  “The world as we have created it is a process ...  Albert Einstein   \n",
              "1  “It is our choices, Harry, that show what we t...     J.K. Rowling   \n",
              "2  “There are only two ways to live your life. On...  Albert Einstein   \n",
              "3  “The person, be it gentleman or lady, who has ...      Jane Austen   \n",
              "4  “Imperfection is beauty, madness is genius and...   Marilyn Monroe   \n",
              "\n",
              "                                           Tags  \n",
              "0        change, deep-thoughts, thinking, world  \n",
              "1                            abilities, choices  \n",
              "2  inspirational, life, live, miracle, miracles  \n",
              "3              aliteracy, books, classic, humor  \n",
              "4                    be-yourself, inspirational  "
            ],
            "text/html": [
              "\n",
              "  <div id=\"df-430513a0-e146-44df-8f28-4736302ed160\">\n",
              "    <div class=\"colab-df-container\">\n",
              "      <div>\n",
              "<style scoped>\n",
              "    .dataframe tbody tr th:only-of-type {\n",
              "        vertical-align: middle;\n",
              "    }\n",
              "\n",
              "    .dataframe tbody tr th {\n",
              "        vertical-align: top;\n",
              "    }\n",
              "\n",
              "    .dataframe thead th {\n",
              "        text-align: right;\n",
              "    }\n",
              "</style>\n",
              "<table border=\"1\" class=\"dataframe\">\n",
              "  <thead>\n",
              "    <tr style=\"text-align: right;\">\n",
              "      <th></th>\n",
              "      <th>Text</th>\n",
              "      <th>Author</th>\n",
              "      <th>Tags</th>\n",
              "    </tr>\n",
              "  </thead>\n",
              "  <tbody>\n",
              "    <tr>\n",
              "      <th>0</th>\n",
              "      <td>“The world as we have created it is a process ...</td>\n",
              "      <td>Albert Einstein</td>\n",
              "      <td>change, deep-thoughts, thinking, world</td>\n",
              "    </tr>\n",
              "    <tr>\n",
              "      <th>1</th>\n",
              "      <td>“It is our choices, Harry, that show what we t...</td>\n",
              "      <td>J.K. Rowling</td>\n",
              "      <td>abilities, choices</td>\n",
              "    </tr>\n",
              "    <tr>\n",
              "      <th>2</th>\n",
              "      <td>“There are only two ways to live your life. On...</td>\n",
              "      <td>Albert Einstein</td>\n",
              "      <td>inspirational, life, live, miracle, miracles</td>\n",
              "    </tr>\n",
              "    <tr>\n",
              "      <th>3</th>\n",
              "      <td>“The person, be it gentleman or lady, who has ...</td>\n",
              "      <td>Jane Austen</td>\n",
              "      <td>aliteracy, books, classic, humor</td>\n",
              "    </tr>\n",
              "    <tr>\n",
              "      <th>4</th>\n",
              "      <td>“Imperfection is beauty, madness is genius and...</td>\n",
              "      <td>Marilyn Monroe</td>\n",
              "      <td>be-yourself, inspirational</td>\n",
              "    </tr>\n",
              "  </tbody>\n",
              "</table>\n",
              "</div>\n",
              "      <button class=\"colab-df-convert\" onclick=\"convertToInteractive('df-430513a0-e146-44df-8f28-4736302ed160')\"\n",
              "              title=\"Convert this dataframe to an interactive table.\"\n",
              "              style=\"display:none;\">\n",
              "        \n",
              "  <svg xmlns=\"http://www.w3.org/2000/svg\" height=\"24px\"viewBox=\"0 0 24 24\"\n",
              "       width=\"24px\">\n",
              "    <path d=\"M0 0h24v24H0V0z\" fill=\"none\"/>\n",
              "    <path d=\"M18.56 5.44l.94 2.06.94-2.06 2.06-.94-2.06-.94-.94-2.06-.94 2.06-2.06.94zm-11 1L8.5 8.5l.94-2.06 2.06-.94-2.06-.94L8.5 2.5l-.94 2.06-2.06.94zm10 10l.94 2.06.94-2.06 2.06-.94-2.06-.94-.94-2.06-.94 2.06-2.06.94z\"/><path d=\"M17.41 7.96l-1.37-1.37c-.4-.4-.92-.59-1.43-.59-.52 0-1.04.2-1.43.59L10.3 9.45l-7.72 7.72c-.78.78-.78 2.05 0 2.83L4 21.41c.39.39.9.59 1.41.59.51 0 1.02-.2 1.41-.59l7.78-7.78 2.81-2.81c.8-.78.8-2.07 0-2.86zM5.41 20L4 18.59l7.72-7.72 1.47 1.35L5.41 20z\"/>\n",
              "  </svg>\n",
              "      </button>\n",
              "      \n",
              "  <style>\n",
              "    .colab-df-container {\n",
              "      display:flex;\n",
              "      flex-wrap:wrap;\n",
              "      gap: 12px;\n",
              "    }\n",
              "\n",
              "    .colab-df-convert {\n",
              "      background-color: #E8F0FE;\n",
              "      border: none;\n",
              "      border-radius: 50%;\n",
              "      cursor: pointer;\n",
              "      display: none;\n",
              "      fill: #1967D2;\n",
              "      height: 32px;\n",
              "      padding: 0 0 0 0;\n",
              "      width: 32px;\n",
              "    }\n",
              "\n",
              "    .colab-df-convert:hover {\n",
              "      background-color: #E2EBFA;\n",
              "      box-shadow: 0px 1px 2px rgba(60, 64, 67, 0.3), 0px 1px 3px 1px rgba(60, 64, 67, 0.15);\n",
              "      fill: #174EA6;\n",
              "    }\n",
              "\n",
              "    [theme=dark] .colab-df-convert {\n",
              "      background-color: #3B4455;\n",
              "      fill: #D2E3FC;\n",
              "    }\n",
              "\n",
              "    [theme=dark] .colab-df-convert:hover {\n",
              "      background-color: #434B5C;\n",
              "      box-shadow: 0px 1px 3px 1px rgba(0, 0, 0, 0.15);\n",
              "      filter: drop-shadow(0px 1px 2px rgba(0, 0, 0, 0.3));\n",
              "      fill: #FFFFFF;\n",
              "    }\n",
              "  </style>\n",
              "\n",
              "      <script>\n",
              "        const buttonEl =\n",
              "          document.querySelector('#df-430513a0-e146-44df-8f28-4736302ed160 button.colab-df-convert');\n",
              "        buttonEl.style.display =\n",
              "          google.colab.kernel.accessAllowed ? 'block' : 'none';\n",
              "\n",
              "        async function convertToInteractive(key) {\n",
              "          const element = document.querySelector('#df-430513a0-e146-44df-8f28-4736302ed160');\n",
              "          const dataTable =\n",
              "            await google.colab.kernel.invokeFunction('convertToInteractive',\n",
              "                                                     [key], {});\n",
              "          if (!dataTable) return;\n",
              "\n",
              "          const docLinkHtml = 'Like what you see? Visit the ' +\n",
              "            '<a target=\"_blank\" href=https://colab.research.google.com/notebooks/data_table.ipynb>data table notebook</a>'\n",
              "            + ' to learn more about interactive tables.';\n",
              "          element.innerHTML = '';\n",
              "          dataTable['output_type'] = 'display_data';\n",
              "          await google.colab.output.renderOutput(dataTable, element);\n",
              "          const docLink = document.createElement('div');\n",
              "          docLink.innerHTML = docLinkHtml;\n",
              "          element.appendChild(docLink);\n",
              "        }\n",
              "      </script>\n",
              "    </div>\n",
              "  </div>\n",
              "  "
            ]
          },
          "metadata": {},
          "execution_count": 22
        }
      ]
    },
    {
      "cell_type": "code",
      "source": [
        "import requests\n",
        "from bs4 import BeautifulSoup\n",
        "import csv\n",
        "\n",
        "def scrape_page(soup, quotes):\n",
        "    # retrieving all the quote <div> HTML element on the page\n",
        "    quote_elements = soup.find_all('div', class_='quote')\n",
        "\n",
        "    # iterating over the list of quote elements\n",
        "    # to extract the data of interest and store it\n",
        "    # in quotes\n",
        "    for quote_element in quote_elements:\n",
        "        # extracting the text of the quote\n",
        "        text = quote_element.find('span', class_='text').text\n",
        "        # extracting the author of the quote\n",
        "        author = quote_element.find('small', class_='author').text\n",
        "\n",
        "        # extracting the tag <a> HTML elements related to the quote\n",
        "        tag_elements = quote_element.find('div', class_='tags').find_all('a', class_='tag')\n",
        "\n",
        "        # storing the list of tag strings in a list\n",
        "        tags = []\n",
        "        for tag_element in tag_elements:\n",
        "            tags.append(tag_element.text)\n",
        "\n",
        "        # appending a dictionary containing the quote data\n",
        "        # in a new format in the quote list\n",
        "        quotes.append(\n",
        "            {\n",
        "                'text': text,\n",
        "                'author': author,\n",
        "                'tags': ', '.join(tags)  # merging the tags into a \"A, B, ..., Z\" string\n",
        "            }\n",
        "        )\n",
        "\n",
        "# the url of the home page of the target website\n",
        "base_url = 'https://quotes.toscrape.com'\n",
        "\n",
        "# defining the User-Agent header to use in the GET request below\n",
        "headers = {\n",
        "    'User-Agent': 'Mozilla/5.0 (Windows NT 10.0; Win64; x64) AppleWebKit/537.36 (KHTML, like Gecko) Chrome/107.0.0.0 Safari/537.36'\n",
        "}\n",
        "\n",
        "# retrieving the target web page\n",
        "page = requests.get(base_url, headers=headers)\n",
        "\n",
        "# parsing the target web page with Beautiful Soup\n",
        "soup = BeautifulSoup(page.text, 'html.parser')\n",
        "\n",
        "# initializing the variable that will contain\n",
        "# the list of all quote data\n",
        "quotes = []\n",
        "\n",
        "# scraping the home page\n",
        "scrape_page(soup, quotes)\n",
        "\n",
        "# getting the \"Next →\" HTML element\n",
        "next_li_element = soup.find('li', class_='next')\n",
        "\n",
        "# if there is a next page to scrape\n",
        "while next_li_element is not None:\n",
        "    next_page_relative_url = next_li_element.find('a', href=True)['href']\n",
        "\n",
        "    # getting the new page\n",
        "    page = requests.get(base_url + next_page_relative_url, headers=headers)\n",
        "\n",
        "    # parsing the new page\n",
        "    soup = BeautifulSoup(page.text, 'html.parser')\n",
        "\n",
        "    # scraping the new page\n",
        "    scrape_page(soup, quotes)\n",
        "\n",
        "    # looking for the \"Next →\" HTML element in the new page\n",
        "    next_li_element = soup.find('li', class_='next')\n",
        "\n",
        "# reading  the \"quotes.csv\" file and creating it\n",
        "# if not present\n",
        "csv_file = open('quotes.csv', 'w', encoding='utf-8', newline='')\n",
        "\n",
        "# initializing the writer object to insert data\n",
        "# in the CSV file\n",
        "writer = csv.writer(csv_file)\n",
        "\n",
        "# writing the header of the CSV file\n",
        "writer.writerow(['Text', 'Author', 'Tags'])\n",
        "\n",
        "# writing each row of the CSV\n",
        "for quote in quotes:\n",
        "    writer.writerow(quote.values())\n",
        "\n",
        "# terminating the operation and releasing the resources\n",
        "csv_file.close()"
      ],
      "metadata": {
        "id": "Go5apxppGuau"
      },
      "execution_count": null,
      "outputs": []
    }
  ]
}